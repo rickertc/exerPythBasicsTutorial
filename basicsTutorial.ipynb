{
 "cells": [
  {
   "cell_type": "markdown",
   "source": [
    "# Python Basics Tutorial\n",
    "\n",
    "Go through the Lean the Basics section at https://www.learnpython.org/\n",
    "Run each code block in a separate cell in this Jupyter Notebook. An easy shortcut is to hit Shift-Enter after entering your code to run the code in the cell and create a new cell below."
   ],
   "metadata": {}
  },
  {
   "cell_type": "code",
   "execution_count": 19,
   "source": [
    "print(\"This line will be printed\")"
   ],
   "outputs": [
    {
     "output_type": "stream",
     "name": "stdout",
     "text": [
      "This line will be printed\n"
     ]
    }
   ],
   "metadata": {}
  },
  {
   "cell_type": "code",
   "execution_count": 22,
   "source": [
    "x = 1\r\n",
    "if x ==1:\r\n",
    "# indented four spaces\r\n",
    "print(\"X is 1.\")"
   ],
   "outputs": [
    {
     "output_type": "error",
     "ename": "IndentationError",
     "evalue": "expected an indented block (<ipython-input-22-b0f7e7b116b2>, line 4)",
     "traceback": [
      "\u001b[1;36m  File \u001b[1;32m\"<ipython-input-22-b0f7e7b116b2>\"\u001b[1;36m, line \u001b[1;32m4\u001b[0m\n\u001b[1;33m    print(\"X is 1.\")\u001b[0m\n\u001b[1;37m    ^\u001b[0m\n\u001b[1;31mIndentationError\u001b[0m\u001b[1;31m:\u001b[0m expected an indented block\n"
     ]
    }
   ],
   "metadata": {}
  },
  {
   "cell_type": "code",
   "execution_count": 21,
   "source": [],
   "outputs": [
    {
     "output_type": "stream",
     "name": "stdout",
     "text": [
      "Hello, world\n"
     ]
    }
   ],
   "metadata": {}
  },
  {
   "cell_type": "code",
   "execution_count": null,
   "source": [],
   "outputs": [],
   "metadata": {}
  },
  {
   "cell_type": "code",
   "execution_count": 23,
   "source": [
    "print(\"Hello, world\")"
   ],
   "outputs": [
    {
     "output_type": "stream",
     "name": "stdout",
     "text": [
      "Hello, world\n"
     ]
    }
   ],
   "metadata": {}
  },
  {
   "cell_type": "code",
   "execution_count": 24,
   "source": [
    "myint = 7\r\n",
    "print(myint)"
   ],
   "outputs": [
    {
     "output_type": "stream",
     "name": "stdout",
     "text": [
      "7\n"
     ]
    }
   ],
   "metadata": {}
  },
  {
   "cell_type": "code",
   "execution_count": 25,
   "source": [
    "myfloat = 7.0\r\n",
    "print(myfloat)\r\n",
    "myfloat = float(7)\r\n",
    "print(myfloat)"
   ],
   "outputs": [
    {
     "output_type": "stream",
     "name": "stdout",
     "text": [
      "7.0\n",
      "7.0\n"
     ]
    }
   ],
   "metadata": {}
  },
  {
   "cell_type": "code",
   "execution_count": 26,
   "source": [
    "mystring = 'hello'\r\n",
    "print(mystring)\r\n",
    "mystring = \"hello\"\r\n",
    "print(mystring)"
   ],
   "outputs": [
    {
     "output_type": "stream",
     "name": "stdout",
     "text": [
      "hello\n",
      "hello\n"
     ]
    }
   ],
   "metadata": {}
  },
  {
   "cell_type": "code",
   "execution_count": 28,
   "source": [
    "mystring = \"Don't worry about apostrophes\"\r\n",
    "print(mystring)"
   ],
   "outputs": [
    {
     "output_type": "stream",
     "name": "stdout",
     "text": [
      "Don't worry about apostrophes\n"
     ]
    }
   ],
   "metadata": {}
  },
  {
   "cell_type": "code",
   "execution_count": 30,
   "source": [
    "one = 1\r\n",
    "two = 2\r\n",
    "three = one + two\r\n",
    "print(three)\r\n",
    "\r\n",
    "hello = \"hello\"\r\n",
    "world = \"world\"\r\n",
    "helloworld = hello + \"\" + world\r\n",
    "print(helloworld)"
   ],
   "outputs": [
    {
     "output_type": "stream",
     "name": "stdout",
     "text": [
      "3\n",
      "helloworld\n"
     ]
    }
   ],
   "metadata": {}
  },
  {
   "cell_type": "code",
   "execution_count": null,
   "source": [],
   "outputs": [],
   "metadata": {}
  },
  {
   "cell_type": "code",
   "execution_count": null,
   "source": [],
   "outputs": [],
   "metadata": {}
  },
  {
   "cell_type": "code",
   "execution_count": 31,
   "source": [
    "a, b = 3, 4\r\n",
    "print(a,b)"
   ],
   "outputs": [
    {
     "output_type": "stream",
     "name": "stdout",
     "text": [
      "3 4\n"
     ]
    }
   ],
   "metadata": {}
  },
  {
   "cell_type": "code",
   "execution_count": 34,
   "source": [
    "# this will not work!\r\n",
    "one = 1\r\n",
    "two = 2\r\n",
    "hello = \"hello\"\r\n",
    "\r\n",
    "print(one + two + hello)"
   ],
   "outputs": [
    {
     "output_type": "error",
     "ename": "TypeError",
     "evalue": "unsupported operand type(s) for +: 'int' and 'str'",
     "traceback": [
      "\u001b[1;31m---------------------------------------------------------------------------\u001b[0m",
      "\u001b[1;31mTypeError\u001b[0m                                 Traceback (most recent call last)",
      "\u001b[1;32m<ipython-input-34-cdf631939cea>\u001b[0m in \u001b[0;36m<module>\u001b[1;34m\u001b[0m\n\u001b[0;32m      4\u001b[0m \u001b[0mhello\u001b[0m \u001b[1;33m=\u001b[0m \u001b[1;34m\"hello\"\u001b[0m\u001b[1;33m\u001b[0m\u001b[1;33m\u001b[0m\u001b[0m\n\u001b[0;32m      5\u001b[0m \u001b[1;33m\u001b[0m\u001b[0m\n\u001b[1;32m----> 6\u001b[1;33m \u001b[0mprint\u001b[0m\u001b[1;33m(\u001b[0m\u001b[0mone\u001b[0m \u001b[1;33m+\u001b[0m \u001b[0mtwo\u001b[0m \u001b[1;33m+\u001b[0m \u001b[0mhello\u001b[0m\u001b[1;33m)\u001b[0m\u001b[1;33m\u001b[0m\u001b[1;33m\u001b[0m\u001b[0m\n\u001b[0m",
      "\u001b[1;31mTypeError\u001b[0m: unsupported operand type(s) for +: 'int' and 'str'"
     ]
    }
   ],
   "metadata": {}
  },
  {
   "cell_type": "code",
   "execution_count": 36,
   "source": [
    "# change this code\r\n",
    "mystring = None\r\n",
    "myfloat = None\r\n",
    "myint = None\r\n",
    "\r\n",
    "# testing code\r\n",
    "if mystring == \"hello\"\r\n",
    "print(\"String: %s\" % mystring)\r\n",
    "if isinstance(myfloat, float) and myfloat ==10.0:\r\n",
    "    print(\"Float: %f\" % myfloat)\r\n",
    "    if isinstance(myint, int) and myint ==20:\r\n",
    "        print(\"Integer: %d\" % myint)"
   ],
   "outputs": [
    {
     "output_type": "error",
     "ename": "SyntaxError",
     "evalue": "invalid syntax (<ipython-input-36-12a066396e11>, line 7)",
     "traceback": [
      "\u001b[1;36m  File \u001b[1;32m\"<ipython-input-36-12a066396e11>\"\u001b[1;36m, line \u001b[1;32m7\u001b[0m\n\u001b[1;33m    if mystring == \"hello\"\u001b[0m\n\u001b[1;37m                          ^\u001b[0m\n\u001b[1;31mSyntaxError\u001b[0m\u001b[1;31m:\u001b[0m invalid syntax\n"
     ]
    }
   ],
   "metadata": {}
  },
  {
   "cell_type": "code",
   "execution_count": 39,
   "source": [
    "mylist = []\r\n",
    "mylist.append(1)\r\n",
    "mylist.append(2)\r\n",
    "mylist.append(3)\r\n",
    "print(mylist[0]) # prints 1\r\n",
    "print(mylist[1]) # prints 2\r\n",
    "print(mylist[2]) # prints 3\r\n",
    "\r\n",
    "# prints out 1,2,3\r\n",
    "for x in mylist:\r\n",
    "    print(x)\r\n"
   ],
   "outputs": [
    {
     "output_type": "stream",
     "name": "stdout",
     "text": [
      "1\n",
      "2\n",
      "3\n",
      "1\n",
      "2\n",
      "3\n"
     ]
    }
   ],
   "metadata": {}
  },
  {
   "cell_type": "code",
   "execution_count": 42,
   "source": [
    "mylist = [1,2,3]\r\n",
    "print(mylist[10])"
   ],
   "outputs": [
    {
     "output_type": "error",
     "ename": "IndexError",
     "evalue": "list index out of range",
     "traceback": [
      "\u001b[1;31m---------------------------------------------------------------------------\u001b[0m",
      "\u001b[1;31mIndexError\u001b[0m                                Traceback (most recent call last)",
      "\u001b[1;32m<ipython-input-42-5f8ab9b655fd>\u001b[0m in \u001b[0;36m<module>\u001b[1;34m\u001b[0m\n\u001b[0;32m      1\u001b[0m \u001b[0mmylist\u001b[0m \u001b[1;33m=\u001b[0m \u001b[1;33m[\u001b[0m\u001b[1;36m1\u001b[0m\u001b[1;33m,\u001b[0m\u001b[1;36m2\u001b[0m\u001b[1;33m,\u001b[0m\u001b[1;36m3\u001b[0m\u001b[1;33m]\u001b[0m\u001b[1;33m\u001b[0m\u001b[1;33m\u001b[0m\u001b[0m\n\u001b[1;32m----> 2\u001b[1;33m \u001b[0mprint\u001b[0m\u001b[1;33m(\u001b[0m\u001b[0mmylist\u001b[0m\u001b[1;33m[\u001b[0m\u001b[1;36m10\u001b[0m\u001b[1;33m]\u001b[0m\u001b[1;33m)\u001b[0m\u001b[1;33m\u001b[0m\u001b[1;33m\u001b[0m\u001b[0m\n\u001b[0m",
      "\u001b[1;31mIndexError\u001b[0m: list index out of range"
     ]
    }
   ],
   "metadata": {}
  },
  {
   "cell_type": "code",
   "execution_count": 46,
   "source": [
    "numbers = []\r\n",
    "strings = []\r\n",
    "names = [\"John\",\"Eric\",\"Jessica\"]\r\n",
    "\r\n",
    "# write your code here\r\n",
    "second_name = None\r\n",
    "\r\n",
    "# this code should write out the filled arrays and the second name in the names list (Eric).\r\n",
    "print(numbers)\r\n",
    "print(strings)\r\n",
    "print(\"The second name on the names list is %s\" % second_name)\r\n",
    "\r\n"
   ],
   "outputs": [
    {
     "output_type": "stream",
     "name": "stdout",
     "text": [
      "[]\n",
      "[]\n",
      "The second name on the names list is None\n"
     ]
    }
   ],
   "metadata": {}
  },
  {
   "cell_type": "code",
   "execution_count": 48,
   "source": [
    "number = 1 + 2 * 3 / 4.0\r\n",
    "print(number)"
   ],
   "outputs": [
    {
     "output_type": "stream",
     "name": "stdout",
     "text": [
      "2.5\n"
     ]
    }
   ],
   "metadata": {}
  },
  {
   "cell_type": "code",
   "execution_count": 50,
   "source": [
    "remainder = 11 % 3\r\n",
    "print(remainder)"
   ],
   "outputs": [
    {
     "output_type": "stream",
     "name": "stdout",
     "text": [
      "2\n"
     ]
    }
   ],
   "metadata": {}
  },
  {
   "cell_type": "code",
   "execution_count": null,
   "source": [],
   "outputs": [],
   "metadata": {}
  },
  {
   "cell_type": "code",
   "execution_count": 51,
   "source": [
    "squared = 7 ** 2\r\n",
    "cubed = 2 ** 3\r\n",
    "print(squared)\r\n",
    "print(cubed)"
   ],
   "outputs": [
    {
     "output_type": "stream",
     "name": "stdout",
     "text": [
      "49\n",
      "8\n"
     ]
    }
   ],
   "metadata": {}
  },
  {
   "cell_type": "code",
   "execution_count": null,
   "source": [],
   "outputs": [],
   "metadata": {}
  },
  {
   "cell_type": "code",
   "execution_count": null,
   "source": [],
   "outputs": [],
   "metadata": {}
  },
  {
   "cell_type": "code",
   "execution_count": null,
   "source": [],
   "outputs": [],
   "metadata": {}
  },
  {
   "cell_type": "code",
   "execution_count": 54,
   "source": [
    "helloworld = \"hello\" + \" \" + \"world\"\r\n",
    "print(helloworld)"
   ],
   "outputs": [
    {
     "output_type": "stream",
     "name": "stdout",
     "text": [
      "hello world\n"
     ]
    }
   ],
   "metadata": {}
  },
  {
   "cell_type": "code",
   "execution_count": 55,
   "source": [
    "lotsofhellos = \"hello\" * 10\r\n",
    "print(lotsofhellos)"
   ],
   "outputs": [
    {
     "output_type": "stream",
     "name": "stdout",
     "text": [
      "hellohellohellohellohellohellohellohellohellohello\n"
     ]
    }
   ],
   "metadata": {}
  },
  {
   "cell_type": "code",
   "execution_count": 56,
   "source": [
    "even_numbers = [2,4,6,8]\r\n",
    "odd_numbers = [1,3,5,7]\r\n",
    "all_numbers = odd_numbers + even_numbers\r\n",
    "print(all_numbers)"
   ],
   "outputs": [
    {
     "output_type": "stream",
     "name": "stdout",
     "text": [
      "[1, 3, 5, 7, 2, 4, 6, 8]\n"
     ]
    }
   ],
   "metadata": {}
  },
  {
   "cell_type": "code",
   "execution_count": 58,
   "source": [
    "print([1,2,3] * 3)"
   ],
   "outputs": [
    {
     "output_type": "stream",
     "name": "stdout",
     "text": [
      "[1, 2, 3, 1, 2, 3, 1, 2, 3]\n"
     ]
    }
   ],
   "metadata": {}
  },
  {
   "cell_type": "code",
   "execution_count": 59,
   "source": [
    "k = object()\r\n",
    "y = object()\r\n",
    "\r\n",
    "#TODO: change this code\r\n",
    "x_list = [x]\r\n",
    "y_list = [y]\r\n",
    "big_list = []\r\n",
    "\r\n",
    "print(\"x_list contains %d objects\" % len(x_list))\r\n",
    "print(\"y_list contains %d objects\" % len(y_list))\r\n",
    "print(\"big_list contains %d objects\" % len(big_list))\r\n",
    "\r\n",
    "# testing code\r\n",
    "if x_list.count(x) == 10 and y_list.count(y) == 10:\r\n",
    "    print(\"Almost there...\")\r\n",
    "if big_list.count(x) == 10 and big_list.count(y) == 10:\r\n",
    "    print(\"Great!\")"
   ],
   "outputs": [
    {
     "output_type": "stream",
     "name": "stdout",
     "text": [
      "x_list contains 1 objects\n",
      "y_list contains 1 objects\n",
      "big_list contains 0 objects\n"
     ]
    }
   ],
   "metadata": {}
  },
  {
   "cell_type": "code",
   "execution_count": 60,
   "source": [
    "# This prints out \"Hello, John!\"\r\n",
    "name = \"John\"\r\n",
    "print(\"Hello, %s!\" % name)"
   ],
   "outputs": [
    {
     "output_type": "stream",
     "name": "stdout",
     "text": [
      "Hello, John!\n"
     ]
    }
   ],
   "metadata": {}
  },
  {
   "cell_type": "code",
   "execution_count": 61,
   "source": [
    "# This prints out \"John is 23 years old.\"\r\n",
    "name = \"John\"\r\n",
    "age = 23\r\n",
    "print(\"%s is %d years old.\" % (name, age))"
   ],
   "outputs": [
    {
     "output_type": "stream",
     "name": "stdout",
     "text": [
      "John is 23 years old.\n"
     ]
    }
   ],
   "metadata": {}
  },
  {
   "cell_type": "code",
   "execution_count": 62,
   "source": [
    "# This prints out: A list: [1, 2, 3]\r\n",
    "mylist = [1,2,3]\r\n",
    "print(\"A list: %s\" % mylist)"
   ],
   "outputs": [
    {
     "output_type": "stream",
     "name": "stdout",
     "text": [
      "A list: [1, 2, 3]\n"
     ]
    }
   ],
   "metadata": {}
  },
  {
   "cell_type": "code",
   "execution_count": 64,
   "source": [
    "data = (\"John\",\"Doe\", 53.44)\r\n",
    "format_string = \"Hello\"\r\n",
    "\r\n",
    "print(format_string % data)"
   ],
   "outputs": [
    {
     "output_type": "error",
     "ename": "TypeError",
     "evalue": "not all arguments converted during string formatting",
     "traceback": [
      "\u001b[1;31m---------------------------------------------------------------------------\u001b[0m",
      "\u001b[1;31mTypeError\u001b[0m                                 Traceback (most recent call last)",
      "\u001b[1;32m<ipython-input-64-a78dabcc5d4e>\u001b[0m in \u001b[0;36m<module>\u001b[1;34m\u001b[0m\n\u001b[0;32m      2\u001b[0m \u001b[0mformat_string\u001b[0m \u001b[1;33m=\u001b[0m \u001b[1;34m\"Hello\"\u001b[0m\u001b[1;33m\u001b[0m\u001b[1;33m\u001b[0m\u001b[0m\n\u001b[0;32m      3\u001b[0m \u001b[1;33m\u001b[0m\u001b[0m\n\u001b[1;32m----> 4\u001b[1;33m \u001b[0mprint\u001b[0m\u001b[1;33m(\u001b[0m\u001b[0mformat_string\u001b[0m \u001b[1;33m%\u001b[0m \u001b[0mdata\u001b[0m\u001b[1;33m)\u001b[0m\u001b[1;33m\u001b[0m\u001b[1;33m\u001b[0m\u001b[0m\n\u001b[0m",
      "\u001b[1;31mTypeError\u001b[0m: not all arguments converted during string formatting"
     ]
    }
   ],
   "metadata": {}
  },
  {
   "cell_type": "code",
   "execution_count": 1,
   "source": [
    "astring = \"Hello world!\"\r\n",
    "astring2 = 'Hello world!'"
   ],
   "outputs": [],
   "metadata": {}
  },
  {
   "cell_type": "code",
   "execution_count": 2,
   "source": [
    "astring = \"Hello world!\"\r\n",
    "print(\"single quotes are ' '\")\r\n",
    "\r\n",
    "print(len(astring))"
   ],
   "outputs": [
    {
     "output_type": "stream",
     "name": "stdout",
     "text": [
      "single quotes are ' '\n",
      "12\n"
     ]
    }
   ],
   "metadata": {}
  },
  {
   "cell_type": "code",
   "execution_count": 3,
   "source": [
    "astring = \"Hello world!\"\r\n",
    "print(astring.index(\"o\"))"
   ],
   "outputs": [
    {
     "output_type": "stream",
     "name": "stdout",
     "text": [
      "4\n"
     ]
    }
   ],
   "metadata": {}
  },
  {
   "cell_type": "code",
   "execution_count": 68,
   "source": [
    "astring = \"Hello world!\"\r\n",
    "print(astring.count(\"l\"))"
   ],
   "outputs": [
    {
     "output_type": "stream",
     "name": "stdout",
     "text": [
      "3\n"
     ]
    }
   ],
   "metadata": {}
  },
  {
   "cell_type": "code",
   "execution_count": 69,
   "source": [
    "astring = \"Hello world!\"\r\n",
    "print(astring[3:7])"
   ],
   "outputs": [
    {
     "output_type": "stream",
     "name": "stdout",
     "text": [
      "lo w\n"
     ]
    }
   ],
   "metadata": {}
  },
  {
   "cell_type": "code",
   "execution_count": 71,
   "source": [
    "string = \"Hello world!\"\r\n",
    "print(astring[3:7])\r\n",
    "print(astring[3:7:1])"
   ],
   "outputs": [
    {
     "output_type": "stream",
     "name": "stdout",
     "text": [
      "lo w\n",
      "lo w\n"
     ]
    }
   ],
   "metadata": {}
  },
  {
   "cell_type": "code",
   "execution_count": 72,
   "source": [
    "astring = \"Hello world!\"\r\n",
    "print(astring[::-1])"
   ],
   "outputs": [
    {
     "output_type": "stream",
     "name": "stdout",
     "text": [
      "!dlrow olleH\n"
     ]
    }
   ],
   "metadata": {}
  },
  {
   "cell_type": "code",
   "execution_count": 73,
   "source": [
    "astring = \"Hello world!\"\r\n",
    "print(astring.upper())\r\n",
    "print(astring.lower())"
   ],
   "outputs": [
    {
     "output_type": "stream",
     "name": "stdout",
     "text": [
      "HELLO WORLD!\n",
      "hello world!\n"
     ]
    }
   ],
   "metadata": {}
  },
  {
   "cell_type": "code",
   "execution_count": 74,
   "source": [
    "astring = \"Hello world!\"\r\n",
    "print(astring.startswith(\"Hello\"))\r\n",
    "print(astring.endswith(\"asdfasdfasdf\"))"
   ],
   "outputs": [
    {
     "output_type": "stream",
     "name": "stdout",
     "text": [
      "True\n",
      "False\n"
     ]
    }
   ],
   "metadata": {}
  },
  {
   "cell_type": "code",
   "execution_count": 75,
   "source": [
    "astring = \"Hello world!\"\r\n",
    "afewwords = astring.split(\" \")"
   ],
   "outputs": [],
   "metadata": {}
  },
  {
   "cell_type": "code",
   "execution_count": 76,
   "source": [
    "s = \"Hey there! what should this string be?\"\r\n",
    "# Length should be 20\r\n",
    "print(\"Length of s = %d\" % len(s))\r\n",
    "\r\n",
    "# First occurrence of \"a\" should be at index 8\r\n",
    "print(\"The first occurrence of the letter a = %d\" % s.index(\"a\"))\r\n",
    "\r\n",
    "# Number of a's should be 2\r\n",
    "print(\"a occurs %d times\" % s.count(\"a\"))\r\n",
    "\r\n",
    "# Slicing the string into bits\r\n",
    "print(\"The first five characters are '%s'\" % s[:5]) # Start to 5\r\n",
    "print(\"The next five characters are '%s'\" % s[5:10]) # 5 to 10\r\n",
    "print(\"The thirteenth character is '%s'\" % s[12]) # Just number 12\r\n",
    "print(\"The characters with odd index are '%s'\" %s[1::2]) #(0-based indexing)\r\n",
    "print(\"The last five characters are '%s'\" % s[-5:]) # 5th-from-last to end\r\n",
    "\r\n",
    "# Convert everything to uppercase\r\n",
    "print(\"String in uppercase: %s\" % s.upper())\r\n",
    "\r\n",
    "# Convert everything to lowercase\r\n",
    "print(\"String in lowercase: %s\" % s.lower())\r\n"
   ],
   "outputs": [
    {
     "output_type": "stream",
     "name": "stdout",
     "text": [
      "Length of s = 38\n",
      "The first occurrence of the letter a = 13\n",
      "a occurs 1 times\n",
      "The first five characters are 'Hey t'\n",
      "The next five characters are 'here!'\n",
      "The thirteenth character is 'h'\n",
      "The characters with odd index are 'e hr!wa hudti tigb?'\n",
      "The last five characters are 'g be?'\n",
      "String in uppercase: HEY THERE! WHAT SHOULD THIS STRING BE?\n",
      "String in lowercase: hey there! what should this string be?\n"
     ]
    }
   ],
   "metadata": {}
  },
  {
   "cell_type": "code",
   "execution_count": 77,
   "source": [
    "x = 2\r\n",
    "print(x == 2) # prints out True\r\n",
    "print(x == 3) # prints out False\r\n",
    "print(x < 3) # prints out True"
   ],
   "outputs": [
    {
     "output_type": "stream",
     "name": "stdout",
     "text": [
      "True\n",
      "False\n",
      "True\n"
     ]
    }
   ],
   "metadata": {}
  },
  {
   "cell_type": "code",
   "execution_count": 78,
   "source": [
    "name = \"John\"\r\n",
    "age = 23\r\n",
    "if name == \"John\" and age == 23:\r\n",
    "    print(\"Your name is John, and you are also 23 years old.\")\r\n",
    "\r\n",
    "if name == \"John\" or name == \"Rick\":\r\n",
    "    print(\"Your name is either John or Rick.\")"
   ],
   "outputs": [
    {
     "output_type": "stream",
     "name": "stdout",
     "text": [
      "Your name is John, and you are also 23 years old.\n",
      "Your name is either John or Rick.\n"
     ]
    }
   ],
   "metadata": {}
  },
  {
   "cell_type": "code",
   "execution_count": 79,
   "source": [
    "name = \"John\"\r\n",
    "if name in [\"John\", \"Rick\"]:\r\n",
    "    print(\"Your name is either John or Rick.\")"
   ],
   "outputs": [
    {
     "output_type": "stream",
     "name": "stdout",
     "text": [
      "Your name is either John or Rick.\n"
     ]
    }
   ],
   "metadata": {}
  },
  {
   "cell_type": "code",
   "execution_count": 80,
   "source": [
    "statement = False\r\n",
    "another_statement = True\r\n",
    "if statement is True:\r\n",
    "    # do something\r\n",
    "    pass\r\n",
    "elif another_statement is True: # else if\r\n",
    "    # do something else\r\n",
    "    pass\r\n",
    "else:\r\n",
    "    # do another thing\r\n",
    "    pass"
   ],
   "outputs": [],
   "metadata": {}
  },
  {
   "cell_type": "code",
   "execution_count": 81,
   "source": [
    "x = 2\r\n",
    "if x == 2:\r\n",
    "    print(\"x equals two!\")\r\n",
    "else:\r\n",
    "    print(\"x does not equal to two.\")"
   ],
   "outputs": [
    {
     "output_type": "stream",
     "name": "stdout",
     "text": [
      "x equals two!\n"
     ]
    }
   ],
   "metadata": {}
  },
  {
   "cell_type": "code",
   "execution_count": 82,
   "source": [
    "x = [1,2,3]\r\n",
    "y = [1,2,3]\r\n",
    "print(x == y) # Prints out True\r\n",
    "print(x is y) # Prints out False"
   ],
   "outputs": [
    {
     "output_type": "stream",
     "name": "stdout",
     "text": [
      "True\n",
      "False\n"
     ]
    }
   ],
   "metadata": {}
  },
  {
   "cell_type": "code",
   "execution_count": 83,
   "source": [
    "print(not False) # Prints out True\r\n",
    "print((not False) == (False)) # Prints out False"
   ],
   "outputs": [
    {
     "output_type": "stream",
     "name": "stdout",
     "text": [
      "True\n",
      "False\n"
     ]
    }
   ],
   "metadata": {}
  },
  {
   "cell_type": "code",
   "execution_count": 84,
   "source": [
    "# change this code\r\n",
    "number = 10\r\n",
    "second_number = 10\r\n",
    "first_array = []\r\n",
    "second_array = [1,2,3]\r\n",
    "\r\n",
    "if number > 15:\r\n",
    "    print(\"1\")\r\n",
    "\r\n",
    "if first_array:\r\n",
    "    print(\"2\")\r\n",
    "\r\n",
    "if len(second_array) == 2:\r\n",
    "    print(\"3\")\r\n",
    "\r\n",
    "if len(first_array) + len(second_array) == 5:\r\n",
    "    print(\"4\")\r\n",
    "\r\n",
    "if first_array and first_array[0] == 1:\r\n",
    "    print(\"5\")\r\n",
    "\r\n",
    "if not second_number:\r\n",
    "    print(\"6\")"
   ],
   "outputs": [],
   "metadata": {}
  },
  {
   "cell_type": "code",
   "execution_count": 85,
   "source": [
    "primes = [2, 3, 5, 7]\r\n",
    "for prime in primes:\r\n",
    "    print(prime)"
   ],
   "outputs": [
    {
     "output_type": "stream",
     "name": "stdout",
     "text": [
      "2\n",
      "3\n",
      "5\n",
      "7\n"
     ]
    }
   ],
   "metadata": {}
  },
  {
   "cell_type": "code",
   "execution_count": 86,
   "source": [
    "# Prints out the numbers 0,1,2,3,4\r\n",
    "for x in range(5):\r\n",
    "    print(x)\r\n",
    "\r\n",
    "# Prints out 3,4,5\r\n",
    "for x in range(3, 6):\r\n",
    "    print(x)\r\n",
    "\r\n",
    "# Prints out 3,5,7\r\n",
    "for x in range(3, 8, 2):\r\n",
    "    print(x)"
   ],
   "outputs": [
    {
     "output_type": "stream",
     "name": "stdout",
     "text": [
      "0\n",
      "1\n",
      "2\n",
      "3\n",
      "4\n",
      "3\n",
      "4\n",
      "5\n",
      "3\n",
      "5\n",
      "7\n"
     ]
    }
   ],
   "metadata": {}
  },
  {
   "cell_type": "code",
   "execution_count": 87,
   "source": [
    "# Prints out 0,1,2,3,4\r\n",
    "\r\n",
    "count = 0\r\n",
    "while count < 5:\r\n",
    "    print(count)\r\n",
    "    count += 1  # This is the same as count = count + 1"
   ],
   "outputs": [
    {
     "output_type": "stream",
     "name": "stdout",
     "text": [
      "0\n",
      "1\n",
      "2\n",
      "3\n",
      "4\n"
     ]
    }
   ],
   "metadata": {}
  },
  {
   "cell_type": "code",
   "execution_count": 88,
   "source": [
    "# Prints out 0,1,2,3,4\r\n",
    "\r\n",
    "count = 0\r\n",
    "while True:\r\n",
    "    print(count)\r\n",
    "    count += 1\r\n",
    "    if count >= 5:\r\n",
    "        break\r\n",
    "\r\n",
    "# Prints out only odd numbers - 1,3,5,7,9\r\n",
    "for x in range(10):\r\n",
    "    # Check if x is even\r\n",
    "    if x % 2 == 0:\r\n",
    "        continue\r\n",
    "    print(x)"
   ],
   "outputs": [
    {
     "output_type": "stream",
     "name": "stdout",
     "text": [
      "0\n",
      "1\n",
      "2\n",
      "3\n",
      "4\n",
      "1\n",
      "3\n",
      "5\n",
      "7\n",
      "9\n"
     ]
    }
   ],
   "metadata": {}
  },
  {
   "cell_type": "code",
   "execution_count": 91,
   "source": [
    "# Prints out 0,1,2,3,4 and then it prints \"count value reached 5\"\r\n",
    "\r\n",
    "count=0\r\n",
    "while(count<5):\r\n",
    "    print(count)\r\n",
    "    count +=1\r\n",
    "else:\r\n",
    "    print(\"count value reached %d\" %(count))\r\n",
    "\r\n",
    "# Prints out 1,2,3,4\r\n",
    "for i in range(1, 10):\r\n",
    "    if(i%5==0):\r\n",
    "        break\r\n",
    "    print(i)\r\n",
    "else:\r\n",
    "    print(\"this is not printed because for loop is terminated because of break but not due to fail in condition\")"
   ],
   "outputs": [
    {
     "output_type": "stream",
     "name": "stdout",
     "text": [
      "0\n",
      "1\n",
      "2\n",
      "3\n",
      "4\n",
      "count value reached 5\n",
      "1\n",
      "2\n",
      "3\n",
      "4\n"
     ]
    }
   ],
   "metadata": {}
  },
  {
   "cell_type": "code",
   "execution_count": 92,
   "source": [
    "numbers = [\r\n",
    "    951, 402, 984, 651, 360, 69, 408, 319, 601, 485, 980, 507, 725, 547, 544,\r\n",
    "    615, 83, 165, 141, 501, 263, 617, 865, 575, 219, 390, 984, 592, 236, 105, 942, 941,\r\n",
    "    386, 462, 47, 418, 907, 344, 236, 375, 823, 566, 597, 978, 328, 615, 953, 345,\r\n",
    "    399, 162, 758, 219, 918, 237, 412, 566, 826, 248, 866, 950, 626, 949, 687, 217,\r\n",
    "    815, 67, 104, 58, 512, 24, 892, 894, 767, 553, 81, 379, 843, 831, 445, 742, 717,\r\n",
    "    958, 609, 842, 451, 688, 753, 854, 685, 93, 857, 440, 380, 126, 721, 328, 753, 470,\r\n",
    "    743, 527\r\n",
    "]\r\n",
    "\r\n",
    "# your code goes here"
   ],
   "outputs": [],
   "metadata": {}
  },
  {
   "cell_type": "code",
   "execution_count": 96,
   "source": [
    "block_head:\r\n",
    "    1st block line\r\n",
    "    2nd block line\r\n",
    "    "
   ],
   "outputs": [
    {
     "output_type": "error",
     "ename": "SyntaxError",
     "evalue": "invalid syntax (<ipython-input-96-13c7ca9df3eb>, line 1)",
     "traceback": [
      "\u001b[1;36m  File \u001b[1;32m\"<ipython-input-96-13c7ca9df3eb>\"\u001b[1;36m, line \u001b[1;32m1\u001b[0m\n\u001b[1;33m    block_head:\u001b[0m\n\u001b[1;37m               ^\u001b[0m\n\u001b[1;31mSyntaxError\u001b[0m\u001b[1;31m:\u001b[0m invalid syntax\n"
     ]
    }
   ],
   "metadata": {}
  },
  {
   "cell_type": "code",
   "execution_count": 97,
   "source": [
    "def my_function():\r\n",
    "    print(\"Hello From My Function!\")"
   ],
   "outputs": [],
   "metadata": {}
  },
  {
   "cell_type": "code",
   "execution_count": 99,
   "source": [
    "def my_function_with_args(username, greeting):\r\n",
    "    print(\"Hello, %s , From My Function!, I wish you %s\"%(rickertc, greeting))"
   ],
   "outputs": [],
   "metadata": {}
  },
  {
   "cell_type": "code",
   "execution_count": 100,
   "source": [
    "def sum_two_numbers(a, b):\r\n",
    "    return a + b"
   ],
   "outputs": [],
   "metadata": {}
  },
  {
   "cell_type": "code",
   "execution_count": 101,
   "source": [
    "# Define our 3 functions\r\n",
    "def my_function():\r\n",
    "    print(\"Hello From My Function!\")\r\n",
    "\r\n",
    "def my_function_with_args(username, greeting):\r\n",
    "    print(\"Hello, %s, From My Function!, I wish you %s\"%(username, greeting))\r\n",
    "\r\n",
    "def sum_two_numbers(a, b):\r\n",
    "    return a + b\r\n",
    "\r\n",
    "# print(a simple greeting)\r\n",
    "my_function()\r\n",
    "\r\n",
    "#prints - \"Hello, John Doe, From My Function!, I wish you a great year!\"\r\n",
    "my_function_with_args(\"John Doe\", \"a great year!\")\r\n",
    "\r\n",
    "# after this line x will hold the value 3!\r\n",
    "x = sum_two_numbers(1,2)"
   ],
   "outputs": [
    {
     "output_type": "stream",
     "name": "stdout",
     "text": [
      "Hello From My Function!\n",
      "Hello, John Doe, From My Function!, I wish you a great year!\n"
     ]
    }
   ],
   "metadata": {}
  },
  {
   "cell_type": "code",
   "execution_count": null,
   "source": [],
   "outputs": [],
   "metadata": {}
  },
  {
   "cell_type": "code",
   "execution_count": 106,
   "source": [
    "class MyClass:\r\n",
    "    variable = \"blah\"\r\n",
    "\r\n",
    "    def function(self):\r\n",
    "        print(\"This is a message inside the class.\")\r\n",
    "    "
   ],
   "outputs": [],
   "metadata": {}
  },
  {
   "cell_type": "code",
   "execution_count": 107,
   "source": [
    "class MyClass:\r\n",
    "    variable = \"blah\"\r\n",
    "\r\n",
    "    def function(self):\r\n",
    "        print(\"This is a message inside the class.\")\r\n",
    "\r\n",
    "myobjectx = MyClass()"
   ],
   "outputs": [],
   "metadata": {}
  },
  {
   "cell_type": "code",
   "execution_count": 108,
   "source": [
    "class MyClass:\r\n",
    "    variable = \"blah\"\r\n",
    "\r\n",
    "    def function(self):\r\n",
    "        print(\"This is a message inside the class.\")\r\n",
    "\r\n",
    "myobjectx = MyClass()\r\n",
    "\r\n",
    "myobjectx.variable"
   ],
   "outputs": [
    {
     "output_type": "execute_result",
     "data": {
      "text/plain": [
       "'blah'"
      ]
     },
     "metadata": {},
     "execution_count": 108
    }
   ],
   "metadata": {}
  },
  {
   "cell_type": "code",
   "execution_count": 109,
   "source": [
    "class MyClass:\r\n",
    "    variable = \"blah\"\r\n",
    "\r\n",
    "    def function(self):\r\n",
    "        print(\"This is a message inside the class.\")\r\n",
    "\r\n",
    "myobjectx = MyClass()\r\n",
    "\r\n",
    "print(myobjectx.variable)"
   ],
   "outputs": [
    {
     "output_type": "stream",
     "name": "stdout",
     "text": [
      "blah\n"
     ]
    }
   ],
   "metadata": {}
  },
  {
   "cell_type": "code",
   "execution_count": 110,
   "source": [
    "class MyClass:\r\n",
    "    variable = \"blah\"\r\n",
    "\r\n",
    "    def function(self):\r\n",
    "        print(\"This is a message inside the class.\")\r\n",
    "\r\n",
    "myobjectx = MyClass()\r\n",
    "myobjecty = MyClass()\r\n",
    "\r\n",
    "myobjecty.variable = \"yackity\"\r\n",
    "\r\n",
    "# Then print out both values\r\n",
    "print(myobjectx.variable)\r\n",
    "print(myobjecty.variable)"
   ],
   "outputs": [
    {
     "output_type": "stream",
     "name": "stdout",
     "text": [
      "blah\n",
      "yackity\n"
     ]
    }
   ],
   "metadata": {}
  },
  {
   "cell_type": "code",
   "execution_count": 111,
   "source": [
    "class MyClass:\r\n",
    "    variable = \"blah\"\r\n",
    "\r\n",
    "    def function(self):\r\n",
    "        print(\"This is a message inside the class.\")\r\n",
    "\r\n",
    "myobjectx = MyClass()\r\n",
    "\r\n",
    "myobjectx.function()"
   ],
   "outputs": [
    {
     "output_type": "stream",
     "name": "stdout",
     "text": [
      "This is a message inside the class.\n"
     ]
    }
   ],
   "metadata": {}
  },
  {
   "cell_type": "code",
   "execution_count": 114,
   "source": [
    "# define the Vehicle class\r\n",
    "class Vehicle:\r\n",
    "    name = \"\"\r\n",
    "    kind = \"car\"\r\n",
    "    color = \"\"\r\n",
    "    value = 100.00\r\n",
    "    def description(self):\r\n",
    "        desc_str = \"%s is a %s %s worth $%.2f.\" % (self.name, self.color, self.kind, self.value)\r\n",
    "        return desc_str\r\n",
    "# your code goes here\r\n",
    "\r\n",
    "# test code\r\n",
    "print(car1.description())\r\n",
    "print(car2.description())"
   ],
   "outputs": [
    {
     "output_type": "error",
     "ename": "NameError",
     "evalue": "name 'car1' is not defined",
     "traceback": [
      "\u001b[1;31m---------------------------------------------------------------------------\u001b[0m",
      "\u001b[1;31mNameError\u001b[0m                                 Traceback (most recent call last)",
      "\u001b[1;32m<ipython-input-114-cacdd7a4a93f>\u001b[0m in \u001b[0;36m<module>\u001b[1;34m\u001b[0m\n\u001b[0;32m     11\u001b[0m \u001b[1;33m\u001b[0m\u001b[0m\n\u001b[0;32m     12\u001b[0m \u001b[1;31m# test code\u001b[0m\u001b[1;33m\u001b[0m\u001b[1;33m\u001b[0m\u001b[1;33m\u001b[0m\u001b[0m\n\u001b[1;32m---> 13\u001b[1;33m \u001b[0mprint\u001b[0m\u001b[1;33m(\u001b[0m\u001b[0mcar1\u001b[0m\u001b[1;33m.\u001b[0m\u001b[0mdescription\u001b[0m\u001b[1;33m(\u001b[0m\u001b[1;33m)\u001b[0m\u001b[1;33m)\u001b[0m\u001b[1;33m\u001b[0m\u001b[1;33m\u001b[0m\u001b[0m\n\u001b[0m\u001b[0;32m     14\u001b[0m \u001b[0mprint\u001b[0m\u001b[1;33m(\u001b[0m\u001b[0mcar2\u001b[0m\u001b[1;33m.\u001b[0m\u001b[0mdescription\u001b[0m\u001b[1;33m(\u001b[0m\u001b[1;33m)\u001b[0m\u001b[1;33m)\u001b[0m\u001b[1;33m\u001b[0m\u001b[1;33m\u001b[0m\u001b[0m\n",
      "\u001b[1;31mNameError\u001b[0m: name 'car1' is not defined"
     ]
    }
   ],
   "metadata": {}
  },
  {
   "cell_type": "code",
   "execution_count": 115,
   "source": [
    "phonebook = {}\r\n",
    "phonebook[\"John\"] = 938477566\r\n",
    "phonebook[\"Jack\"] = 938377264\r\n",
    "phonebook[\"Jill\"] = 947662781\r\n",
    "print(phonebook)"
   ],
   "outputs": [
    {
     "output_type": "stream",
     "name": "stdout",
     "text": [
      "{'John': 938477566, 'Jack': 938377264, 'Jill': 947662781}\n"
     ]
    }
   ],
   "metadata": {}
  },
  {
   "cell_type": "code",
   "execution_count": 117,
   "source": [
    "phonebook = {\r\n",
    "    \"John\" : 938477566,\r\n",
    "    \"Jack\" : 938377264,\r\n",
    "    \"Jill\" : 947662781\r\n",
    "}\r\n",
    "print(phonebook)\r\n",
    "  "
   ],
   "outputs": [
    {
     "output_type": "stream",
     "name": "stdout",
     "text": [
      "{'John': 938477566, 'Jack': 938377264, 'Jill': 947662781}\n"
     ]
    }
   ],
   "metadata": {}
  },
  {
   "cell_type": "code",
   "execution_count": 118,
   "source": [
    "phonebook = {\"John\" : 938477566,\"Jack\" : 938377264,\"Jill\" : 947662781}\r\n",
    "for name, number in phonebook.items():\r\n",
    "    print(\"Phone number of %s is %d\" % (name, number))"
   ],
   "outputs": [
    {
     "output_type": "stream",
     "name": "stdout",
     "text": [
      "Phone number of John is 938477566\n",
      "Phone number of Jack is 938377264\n",
      "Phone number of Jill is 947662781\n"
     ]
    }
   ],
   "metadata": {}
  },
  {
   "cell_type": "code",
   "execution_count": 119,
   "source": [
    "phonebook = {\r\n",
    "   \"John\" : 938477566,\r\n",
    "   \"Jack\" : 938377264,\r\n",
    "   \"Jill\" : 947662781\r\n",
    "}\r\n",
    "del phonebook[\"John\"]\r\n",
    "print(phonebook)"
   ],
   "outputs": [
    {
     "output_type": "stream",
     "name": "stdout",
     "text": [
      "{'Jack': 938377264, 'Jill': 947662781}\n"
     ]
    }
   ],
   "metadata": {}
  },
  {
   "cell_type": "code",
   "execution_count": 120,
   "source": [
    "phonebook = {  \r\n",
    "    \"John\" : 938477566,\r\n",
    "    \"Jack\" : 938377264,\r\n",
    "    \"Jill\" : 947662781\r\n",
    "}  \r\n",
    "# your code goes here\r\n",
    "\r\n",
    "# testing code\r\n",
    "if \"Jake\" in phonebook:  \r\n",
    "    print(\"Jake is listed in the phonebook.\")\r\n",
    "    \r\n",
    "if \"Jill\" not in phonebook:      \r\n",
    "    print(\"Jill is not listed in the phonebook.\")  "
   ],
   "outputs": [],
   "metadata": {}
  },
  {
   "cell_type": "code",
   "execution_count": 121,
   "source": [
    "mygame/\r\n",
    "mygame/game.py\r\n",
    "mygame/draw.py"
   ],
   "outputs": [
    {
     "output_type": "error",
     "ename": "SyntaxError",
     "evalue": "invalid syntax (<ipython-input-121-9598c6437f3f>, line 1)",
     "traceback": [
      "\u001b[1;36m  File \u001b[1;32m\"<ipython-input-121-9598c6437f3f>\"\u001b[1;36m, line \u001b[1;32m1\u001b[0m\n\u001b[1;33m    mygame/\u001b[0m\n\u001b[1;37m           ^\u001b[0m\n\u001b[1;31mSyntaxError\u001b[0m\u001b[1;31m:\u001b[0m invalid syntax\n"
     ]
    }
   ],
   "metadata": {}
  },
  {
   "cell_type": "code",
   "execution_count": 5,
   "source": [
    "# game.py\r\n",
    "# import the draw module\r\n",
    "from draw import draw_game\r\n",
    "\r\n",
    "\r\n",
    "\r\n",
    "\r\n",
    "def main():\r\n",
    "    result = play_game()\r\n",
    "draw_game(result)\r\n",
    "\r\n",
    "# this means that if this script is executed, then \r\n",
    "# main() will be executed\r\n",
    "if __name__ == '__main__':\r\n",
    "    main()"
   ],
   "outputs": [
    {
     "output_type": "error",
     "ename": "ModuleNotFoundError",
     "evalue": "No module named 'draw'",
     "traceback": [
      "\u001b[1;31m---------------------------------------------------------------------------\u001b[0m",
      "\u001b[1;31mModuleNotFoundError\u001b[0m                       Traceback (most recent call last)",
      "\u001b[1;32m<ipython-input-5-dc176522c2b2>\u001b[0m in \u001b[0;36m<module>\u001b[1;34m\u001b[0m\n\u001b[0;32m      1\u001b[0m \u001b[1;31m# game.py\u001b[0m\u001b[1;33m\u001b[0m\u001b[1;33m\u001b[0m\u001b[1;33m\u001b[0m\u001b[0m\n\u001b[0;32m      2\u001b[0m \u001b[1;31m# import the draw module\u001b[0m\u001b[1;33m\u001b[0m\u001b[1;33m\u001b[0m\u001b[1;33m\u001b[0m\u001b[0m\n\u001b[1;32m----> 3\u001b[1;33m \u001b[1;32mfrom\u001b[0m \u001b[0mdraw\u001b[0m \u001b[1;32mimport\u001b[0m \u001b[0mdraw_game\u001b[0m\u001b[1;33m\u001b[0m\u001b[1;33m\u001b[0m\u001b[0m\n\u001b[0m\u001b[0;32m      4\u001b[0m \u001b[1;33m\u001b[0m\u001b[0m\n\u001b[0;32m      5\u001b[0m \u001b[1;33m\u001b[0m\u001b[0m\n",
      "\u001b[1;31mModuleNotFoundError\u001b[0m: No module named 'draw'"
     ]
    }
   ],
   "metadata": {}
  }
 ],
 "metadata": {
  "language_info": {
   "codemirror_mode": {
    "name": "ipython",
    "version": 3
   },
   "file_extension": ".py",
   "mimetype": "text/x-python",
   "name": "python",
   "nbconvert_exporter": "python",
   "pygments_lexer": "ipython3",
   "version": "3.8.8"
  },
  "orig_nbformat": 2,
  "kernelspec": {
   "name": "python3",
   "display_name": "Python 3.8.8 64-bit ('base': conda)"
  },
  "interpreter": {
   "hash": "b3ba2566441a7c06988d0923437866b63cedc61552a5af99d1f4fb67d367b25f"
  }
 },
 "nbformat": 4,
 "nbformat_minor": 2
}